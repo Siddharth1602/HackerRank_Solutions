{
 "cells": [
  {
   "cell_type": "code",
   "execution_count": 3,
   "id": "e17375a4",
   "metadata": {},
   "outputs": [
    {
     "name": "stdout",
     "output_type": "stream",
     "text": [
      "Hello, World!\n"
     ]
    }
   ],
   "source": [
    "## Problem: 1\n",
    "my_string = \"Hello, World!\"\n",
    "print(my_string)"
   ]
  },
  {
   "cell_type": "code",
   "execution_count": 6,
   "id": "48ddc682",
   "metadata": {},
   "outputs": [
    {
     "name": "stdout",
     "output_type": "stream",
     "text": [
      "Enter the value of a:5\n",
      "Enter the value of b:56\n",
      "The summation of a and b is: 61\n",
      "The subtraction of a and b is: -51\n",
      "The multiplication of a and b is: 280\n"
     ]
    }
   ],
   "source": [
    "## Arithmetic Operators:\n",
    "\n",
    "if __name__ == '__main__':\n",
    "    a = int(input(\"Enter the value of a:\"))\n",
    "    b = int(input(\"Enter the value of b:\"))\n",
    "    print(\"The summation of a and b is:\",a + b)\n",
    "    print(\"The subtraction of a and b is:\",a - b)\n",
    "    print(\"The multiplication of a and b is:\",a*b)"
   ]
  },
  {
   "cell_type": "code",
   "execution_count": 8,
   "id": "188cf042",
   "metadata": {},
   "outputs": [
    {
     "name": "stdout",
     "output_type": "stream",
     "text": [
      "Enter any number:3\n",
      "0\n",
      "1\n",
      "4\n"
     ]
    }
   ],
   "source": [
    "## Python Loops:\n",
    "if __name__ == '__main__':\n",
    "    n = int(input(\"Enter any number:\"))\n",
    "    \n",
    "    for i in range(0,n):\n",
    "        i <= 5\n",
    "        print(i**2)"
   ]
  },
  {
   "cell_type": "code",
   "execution_count": 10,
   "id": "e1f2eb33",
   "metadata": {},
   "outputs": [
    {
     "name": "stdout",
     "output_type": "stream",
     "text": [
      "34\n",
      "1 2 3 4 5 6 7 8 9 10 11 12 13 14 15 16 17 18 19 20 21 22 23 24 25 26 27 28 29 30 31 32 33 34"
     ]
    }
   ],
   "source": [
    "## Print function:\n",
    "if __name__ == '__main__':\n",
    "    n = int(input().strip())\n",
    "    for i in range(1,n+1):\n",
    "        print(i,end=\"\")\n",
    "        if i <n:\n",
    "            print(end=\" \")"
   ]
  },
  {
   "cell_type": "code",
   "execution_count": 11,
   "id": "279e2b82",
   "metadata": {},
   "outputs": [
    {
     "name": "stdout",
     "output_type": "stream",
     "text": [
      "4\n",
      "Not Weird\n"
     ]
    }
   ],
   "source": [
    "## Python if else:\n",
    "\n",
    "import math\n",
    "import os\n",
    "import random\n",
    "import re\n",
    "import sys\n",
    "\n",
    "if __name__ == '__main__':\n",
    "    n = int(input().strip())\n",
    "    if n % 2 != 0:\n",
    "        print(\"Weird\")\n",
    "    else:\n",
    "        if n >=2 and n <=5:\n",
    "            print(\"Not Weird\")\n",
    "        elif n >=6 and n <=20:\n",
    "            print(\"Weird\")\n",
    "        else:\n",
    "            print(\"Not Weird\")"
   ]
  },
  {
   "cell_type": "code",
   "execution_count": 1,
   "id": "5c0cc34a",
   "metadata": {},
   "outputs": [
    {
     "name": "stdout",
     "output_type": "stream",
     "text": [
      "Enter the value of a:45\n",
      "Enter the value of b:5\n",
      "The division value without float: 9\n",
      "The division value with float: 9.0\n"
     ]
    }
   ],
   "source": [
    "## Python Division:\n",
    "\n",
    "if __name__ == '__main__':\n",
    "    a = int(input(\"Enter the value of a:\"))\n",
    "    b = int(input(\"Enter the value of b:\"))\n",
    "    print(\"The division value without float:\",a//b)\n",
    "    print(\"The division value with float:\",a/b)"
   ]
  },
  {
   "cell_type": "code",
   "execution_count": 71,
   "id": "5e3d0d55",
   "metadata": {},
   "outputs": [
    {
     "name": "stdout",
     "output_type": "stream",
     "text": [
      "Enter a year:2036\n",
      "True\n"
     ]
    }
   ],
   "source": [
    "def is_leap(year):\n",
    "    leap = False\n",
    "    \n",
    "    # Write your logic here\n",
    "    if year % 4 == 0 and (year % 400 == 0 or year % 100 != 0):\n",
    "        return True\n",
    "    \n",
    "    return leap\n",
    "\n",
    "year = int(input(\"Enter a year:\"))\n",
    "print(is_leap(year))"
   ]
  },
  {
   "cell_type": "code",
   "execution_count": null,
   "id": "42367562",
   "metadata": {},
   "outputs": [],
   "source": []
  }
 ],
 "metadata": {
  "kernelspec": {
   "display_name": "Python 3 (ipykernel)",
   "language": "python",
   "name": "python3"
  },
  "language_info": {
   "codemirror_mode": {
    "name": "ipython",
    "version": 3
   },
   "file_extension": ".py",
   "mimetype": "text/x-python",
   "name": "python",
   "nbconvert_exporter": "python",
   "pygments_lexer": "ipython3",
   "version": "3.9.13"
  }
 },
 "nbformat": 4,
 "nbformat_minor": 5
}
