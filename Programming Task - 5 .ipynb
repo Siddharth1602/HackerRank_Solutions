{
 "cells": [
  {
   "cell_type": "code",
   "execution_count": 14,
   "id": "dfc7a447",
   "metadata": {},
   "outputs": [
    {
     "name": "stdout",
     "output_type": "stream",
     "text": [
      "Enter the unique numbers:1 2 3\n",
      "The subsets of the inputs are:\n",
      " [[], ['1'], ['2'], ['1', '2'], ['3'], ['1', '3'], ['2', '3'], ['1', '2', '3']]\n"
     ]
    }
   ],
   "source": [
    "## Subsets: (leetCode Problem)\n",
    "nums = list(input(\"Enter the unique numbers:\").split())\n",
    "class Solution:\n",
    "    def subsets(self, nums: list[int]) -> list[list[int]]:\n",
    "        n = len(nums)\n",
    "        stor_num = []\n",
    "        for i in range(2**n):\n",
    "            sub = []\n",
    "            for j in range(n):\n",
    "                if (i >> j) & 1:  ## >> operator is the right shift operator\n",
    "                    sub.append(nums[j])\n",
    "            stor_num.append(sub)\n",
    "        return stor_num\n",
    "\n",
    "sol = Solution()\n",
    "print(\"The subsets of the inputs are:\\n\",sol.subsets(nums))"
   ]
  },
  {
   "cell_type": "code",
   "execution_count": 24,
   "id": "d86e68f3",
   "metadata": {},
   "outputs": [
    {
     "name": "stdout",
     "output_type": "stream",
     "text": [
      "Enter the value of x:1\n",
      "Enter the value of y:4\n",
      "The hamming Distance is: 2\n"
     ]
    }
   ],
   "source": [
    "## Hamming (leetcode Problem):\n",
    "class Solution:\n",
    "    def hammingDistance(self, x: int, y: int) -> int:\n",
    "        Xor_value = x ^ y\n",
    "        count = 0\n",
    "        while Xor_value != 0:\n",
    "            count+=1\n",
    "            Xor_value &= (Xor_value - 1)\n",
    "        return count\n",
    "\n",
    "sol = Solution()\n",
    "x = int(input(\"Enter the value of x:\"))\n",
    "y = int(input(\"Enter the value of y:\"))\n",
    "print(\"The hamming Distance is:\",sol.hammingDistance(x, y))"
   ]
  },
  {
   "cell_type": "markdown",
   "id": "afe2a5c3",
   "metadata": {},
   "source": [
    "The Hamming distance is a measure of the difference between two strings of equal length. It is defined as the number of positions at which the corresponding symbols in the two strings are different. For example, the Hamming distance between the strings \"10101\" and \"11100\" is 3, because there are three positions where the symbols differ.\n",
    "\n",
    "In the context of binary numbers, the Hamming distance between two integers is the number of bit positions in which the corresponding bits are different. It is often used in coding theory and information theory to measure the quality of error-correcting codes, and in cryptography to quantify the security of cryptographic algorithms."
   ]
  },
  {
   "cell_type": "markdown",
   "id": "416b5b51",
   "metadata": {},
   "source": [
    "---- XOR (exclusive or) is a logical operation that takes two binary inputs and returns a binary output. It is defined such that the output is 1 if and only if exactly one of the inputs is 1, and 0 otherwise.\n",
    "\n",
    "In other words, the XOR operation evaluates to true (or 1) if the inputs differ, and to false (or 0) if the inputs are the same. For example, the XOR of 1 and 0 is 1, because the inputs differ; the XOR of 0 and 0 is 0, because the inputs are the same; and the XOR of 1 and 1 is 0, because the inputs are the same.\n",
    "\n",
    "The XOR operation is commonly used in computer science and mathematics for a variety of purposes, including encryption, error correction, and data manipulation. It is a fundamental building block of many algorithms and programming languages.----"
   ]
  },
  {
   "cell_type": "code",
   "execution_count": null,
   "id": "aa1df94e",
   "metadata": {},
   "outputs": [],
   "source": []
  }
 ],
 "metadata": {
  "kernelspec": {
   "display_name": "Python 3 (ipykernel)",
   "language": "python",
   "name": "python3"
  },
  "language_info": {
   "codemirror_mode": {
    "name": "ipython",
    "version": 3
   },
   "file_extension": ".py",
   "mimetype": "text/x-python",
   "name": "python",
   "nbconvert_exporter": "python",
   "pygments_lexer": "ipython3",
   "version": "3.9.13"
  }
 },
 "nbformat": 4,
 "nbformat_minor": 5
}
