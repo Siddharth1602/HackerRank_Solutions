{
 "cells": [
  {
   "cell_type": "code",
   "execution_count": 30,
   "id": "1f35ff8f",
   "metadata": {},
   "outputs": [
    {
     "name": "stdout",
     "output_type": "stream",
     "text": [
      " 1+2j\n",
      "2.23606797749979\n",
      "1.1071487177940904\n"
     ]
    }
   ],
   "source": [
    "## Polar Coordinates:\n",
    "\n",
    "import math\n",
    "import cmath\n",
    "z = complex(str(input()))\n",
    "\n",
    "z == z.real + z.imag*1j\n",
    "r = math.sqrt(z.real**2 + z.imag**2)\n",
    "counter_angle = cmath.phase(z)\n",
    "print(r)\n",
    "print(counter_angle)"
   ]
  },
  {
   "cell_type": "code",
   "execution_count": 31,
   "id": "6385ae4e",
   "metadata": {},
   "outputs": [
    {
     "name": "stdout",
     "output_type": "stream",
     "text": [
      "177\n",
      "10\n",
      "17\n",
      "7\n",
      "(17, 7)\n"
     ]
    }
   ],
   "source": [
    "## Mod Divmod:\n",
    "\n",
    "a = int(input())\n",
    "b = int(input())\n",
    "\n",
    "print(a//b)\n",
    "print(a%b)\n",
    "print(divmod(a,b))"
   ]
  },
  {
   "cell_type": "code",
   "execution_count": 32,
   "id": "32616573",
   "metadata": {},
   "outputs": [
    {
     "name": "stdout",
     "output_type": "stream",
     "text": [
      "3\n",
      "4\n",
      "5\n",
      "81\n",
      "1\n"
     ]
    }
   ],
   "source": [
    "## Power - Mod Power\n",
    "\n",
    "a = int(input())\n",
    "b = int(input())\n",
    "m = int(input())\n",
    "\n",
    "print(a**b)\n",
    "print(pow(a,b,m)) ## This is very helpful in computations where you have to print the resultant % mod."
   ]
  },
  {
   "cell_type": "code",
   "execution_count": 34,
   "id": "638da272",
   "metadata": {},
   "outputs": [
    {
     "name": "stdout",
     "output_type": "stream",
     "text": [
      "9\n",
      "29\n",
      "7\n",
      "27\n",
      "4710194409608608369201743232\n"
     ]
    }
   ],
   "source": [
    "## ntegers Come In All Sizes\n",
    "\n",
    "a = int(input())\n",
    "b = int(input())\n",
    "c = int(input())\n",
    "d = int(input())\n",
    "\n",
    "print(a**b + c**d)"
   ]
  },
  {
   "cell_type": "code",
   "execution_count": 50,
   "id": "e0cad825",
   "metadata": {},
   "outputs": [
    {
     "name": "stdout",
     "output_type": "stream",
     "text": [
      "100\n",
      "1\n",
      "89°\n"
     ]
    }
   ],
   "source": [
    "## Find Angle MBC\n",
    "\n",
    "import math\n",
    "\n",
    "AB = int(input())\n",
    "BC = int(input())\n",
    "\n",
    "angle_MBC = math.degrees(math.atan(AB/BC))\n",
    "\n",
    "print(\"{}{}\".format(round(angle_MBC), u\"\\N{DEGREE SIGN}\"))"
   ]
  }
 ],
 "metadata": {
  "kernelspec": {
   "display_name": "Python 3 (ipykernel)",
   "language": "python",
   "name": "python3"
  },
  "language_info": {
   "codemirror_mode": {
    "name": "ipython",
    "version": 3
   },
   "file_extension": ".py",
   "mimetype": "text/x-python",
   "name": "python",
   "nbconvert_exporter": "python",
   "pygments_lexer": "ipython3",
   "version": "3.9.13"
  }
 },
 "nbformat": 4,
 "nbformat_minor": 5
}
