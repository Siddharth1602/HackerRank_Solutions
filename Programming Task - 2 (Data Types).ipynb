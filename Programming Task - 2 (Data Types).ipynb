{
 "cells": [
  {
   "cell_type": "code",
   "execution_count": 1,
   "id": "e420df42",
   "metadata": {},
   "outputs": [
    {
     "name": "stdout",
     "output_type": "stream",
     "text": [
      "2\n",
      "2\n",
      "2\n",
      "2\n",
      "[[0, 0, 0], [0, 0, 1], [0, 1, 0], [0, 1, 2], [0, 2, 1], [0, 2, 2], [1, 0, 0], [1, 0, 2], [1, 1, 1], [1, 1, 2], [1, 2, 0], [1, 2, 1], [1, 2, 2], [2, 0, 1], [2, 0, 2], [2, 1, 0], [2, 1, 1], [2, 1, 2], [2, 2, 0], [2, 2, 1], [2, 2, 2]]\n"
     ]
    }
   ],
   "source": [
    "## List Comprehension:\n",
    "\n",
    "if __name__ == '__main__':\n",
    "    x = int(input())\n",
    "    y = int(input())\n",
    "    z = int(input())\n",
    "    n = int(input())\n",
    "    coords = [[i, j, k] for i in range(x + 1) for j in range(y + 1) for k in range(z + 1) if (i + j + k) != n]\n",
    "    print(coords)"
   ]
  },
  {
   "cell_type": "code",
   "execution_count": 2,
   "id": "c6dd3cd2",
   "metadata": {},
   "outputs": [
    {
     "name": "stdout",
     "output_type": "stream",
     "text": [
      "5\n",
      "2 3 6 6 5\n",
      "5\n"
     ]
    }
   ],
   "source": [
    "## Find Runner-Up Score:\n",
    "\n",
    "if __name__ == '__main__':\n",
    "    n = int(input())\n",
    "    arr = list(map(int, input().split()))\n",
    "    arr.sort(reverse = True)\n",
    "    for i in range(n):\n",
    "        if arr[i] != arr[0]:\n",
    "            print(arr[i])\n",
    "            break "
   ]
  },
  {
   "cell_type": "code",
   "execution_count": 4,
   "id": "8224aa50",
   "metadata": {},
   "outputs": [
    {
     "name": "stdout",
     "output_type": "stream",
     "text": [
      "5\n",
      "Harry\n",
      "37.2\n",
      "Berry\n",
      "37.2\n",
      "Tina\n",
      "37.2\n",
      "Akriti\n",
      "41\n",
      "Harsh\n",
      "39\n",
      "The second lowest marks scored by: Harsh\n"
     ]
    }
   ],
   "source": [
    "## Nested Lists:\n",
    "\n",
    "nested_list = []\n",
    "if __name__ == '__main__':\n",
    "    for _ in range(int(input())):\n",
    "        name = input()\n",
    "        score = float(input())\n",
    "        nested_list.append([name, score])\n",
    "    def get_score(sublist):\n",
    "        return sublist[1]\n",
    "    nested_list.sort(key=get_score)\n",
    "    second_lowest_score = sorted(set([score for name, score in nested_list]))[1]\n",
    "    names = sorted([name for name, score in nested_list if score == second_lowest_score])\n",
    "    names.sort()\n",
    "    for name in names:\n",
    "        print(\"The second lowest marks scored by:\",name)"
   ]
  },
  {
   "cell_type": "code",
   "execution_count": 5,
   "id": "1e18353b",
   "metadata": {},
   "outputs": [
    {
     "name": "stdout",
     "output_type": "stream",
     "text": [
      "3\n",
      "Krishna 67 68 69\n",
      "Arjun 70 98 63\n",
      "Malika 52 56 60\n",
      "Malika\n",
      "56.00\n"
     ]
    }
   ],
   "source": [
    "## Finding Percentage:\n",
    "\n",
    "if __name__ == '__main__':\n",
    "    n = int(input())\n",
    "    student_marks = {}\n",
    "    for _ in range(n):\n",
    "        name, *line = input().split()\n",
    "        scores = list(map(float, line))\n",
    "        student_marks[name] = scores\n",
    "    query_name = input()\n",
    "    avg = sum(student_marks[query_name]) / len(student_marks[query_name])\n",
    "    print(\"{:.2f}\".format(avg))"
   ]
  },
  {
   "cell_type": "code",
   "execution_count": 6,
   "id": "444df999",
   "metadata": {},
   "outputs": [
    {
     "name": "stdout",
     "output_type": "stream",
     "text": [
      "12\n",
      "insert 0 5\n",
      "insert 1 10\n",
      "insert 0 6\n",
      "print\n",
      "[6, 5, 10]\n",
      "remove 6\n",
      "append 9\n",
      "append 1\n",
      "sort\n",
      "print\n",
      "[1, 5, 9, 10]\n",
      "pop\n",
      "reverse\n",
      "print\n",
      "[9, 5, 1]\n"
     ]
    }
   ],
   "source": [
    "## Lists:\n",
    "\n",
    "if __name__ == '__main__':\n",
    "    N = int(input())\n",
    "    list = []\n",
    "    for _ in range (N):\n",
    "        command = input().split()\n",
    "        if command[0] == 'insert':\n",
    "            list.insert(int(command[1]),int(command[2]))\n",
    "        elif command[0] == 'print':\n",
    "            print(list)\n",
    "        elif command[0] == 'remove':\n",
    "            list.remove(int(command[1]))\n",
    "        elif command[0] == 'append':\n",
    "            list.append(int(command[1]))\n",
    "        elif command[0] == 'sort':\n",
    "            list.sort()\n",
    "        elif command[0] == 'pop':\n",
    "            list.pop()\n",
    "        elif command[0] == 'reverse':\n",
    "            list.reverse()"
   ]
  },
  {
   "cell_type": "code",
   "execution_count": 8,
   "id": "c72d7bbc",
   "metadata": {},
   "outputs": [
    {
     "name": "stdout",
     "output_type": "stream",
     "text": [
      "2\n",
      "1 2\n",
      "-3550055125485641917\n"
     ]
    }
   ],
   "source": [
    "## Tuples:\n",
    "if __name__ == '__main__':\n",
    "    n = int(input())\n",
    "    integer_list = tuple(map(int, input().split()))\n",
    "    print(hash(integer_list))"
   ]
  },
  {
   "cell_type": "code",
   "execution_count": 3,
   "id": "bfd8d3ac",
   "metadata": {},
   "outputs": [
    {
     "name": "stdout",
     "output_type": "stream",
     "text": [
      "10\n",
      "161 182 161 154 176 170 167 171 170 174\n",
      "169.375\n"
     ]
    }
   ],
   "source": [
    "## Introduction of Sets:\n",
    "def average(array):\n",
    "    array = set(arr)\n",
    "    average = sum(array)/len(array)\n",
    "    return average\n",
    "if __name__ == '__main__':\n",
    "    n = int(input())\n",
    "    arr = list(map(int, input().split()))\n",
    "    result = average(arr)\n",
    "    print(result)"
   ]
  },
  {
   "cell_type": "code",
   "execution_count": 2,
   "id": "50a9cfa3",
   "metadata": {},
   "outputs": [
    {
     "name": "stdout",
     "output_type": "stream",
     "text": [
      "4\n",
      "2 4 5 9\n",
      "4\n",
      "2 4 11 12\n",
      "5\n",
      "9\n",
      "11\n",
      "12\n"
     ]
    }
   ],
   "source": [
    "## Symmetric Difference:\n",
    "\n",
    "M = int(input())\n",
    "M = list(map(int, input().split()))\n",
    "N = int(input())\n",
    "N = list(map(int, input().split()))\n",
    "\n",
    "new_set1 = set(M)\n",
    "new_set2 = set(N)\n",
    "\n",
    "diff1 = new_set1.difference(new_set2)\n",
    "diff2 = new_set2.difference(new_set1)\n",
    "\n",
    "union_diff = diff1.union(diff2)\n",
    "\n",
    "new_list = list(union_diff)\n",
    "new_list.sort()\n",
    "\n",
    "for element in new_list:\n",
    "    print(element)"
   ]
  },
  {
   "cell_type": "code",
   "execution_count": 38,
   "id": "50857362",
   "metadata": {},
   "outputs": [
    {
     "name": "stdout",
     "output_type": "stream",
     "text": [
      "Enter the number of countries:5\n",
      "USA\n",
      "Kazakstan\n",
      "pakistan\n",
      "USA\n",
      "pakistan\n"
     ]
    },
    {
     "data": {
      "text/plain": [
       "3"
      ]
     },
     "execution_count": 38,
     "metadata": {},
     "output_type": "execute_result"
    }
   ],
   "source": [
    "## The problem is solved in two ways: (Set.add)\n",
    "\n",
    "N = int(input(\"Enter the number of countries:\"))\n",
    "names = []\n",
    "for _ in range(N):\n",
    "    name = str(input())\n",
    "    names.append(name)\n",
    "distinct_name = []\n",
    "for element in names:\n",
    "    if element not in distinct_name:\n",
    "        distinct_name.append(element)\n",
    "len(distinct_name)"
   ]
  },
  {
   "cell_type": "code",
   "execution_count": 40,
   "id": "e8c20904",
   "metadata": {},
   "outputs": [
    {
     "name": "stdout",
     "output_type": "stream",
     "text": [
      "Enter the number of countries:7\n",
      "UK\n",
      "USA\n",
      "USA\n",
      "Pakistan\n",
      "India\n",
      "UK\n",
      "Russia\n",
      "5\n"
     ]
    }
   ],
   "source": [
    "## Set.add\n",
    "N = int(input(\"Enter the number of countries:\"))\n",
    "names = []\n",
    "for _ in range(N):\n",
    "    name = str(input())\n",
    "    names.append(name)\n",
    "unique_stamps = set()\n",
    "for stamp in names:\n",
    "    unique_stamps.add(stamp)\n",
    "total_distanct_stamps = len(unique_stamps)\n",
    "print(total_distanct_stamps)"
   ]
  },
  {
   "cell_type": "code",
   "execution_count": 41,
   "id": "476f9376",
   "metadata": {},
   "outputs": [
    {
     "name": "stdout",
     "output_type": "stream",
     "text": [
      "9\n",
      "1 2 3 4 5 6 7 8 9\n",
      "10\n",
      "pop\n",
      "remove 9\n",
      "discard 9\n",
      "discard 8\n",
      "remove 7\n",
      "pop \n",
      "discard 6\n",
      "remove 5\n",
      "pop \n",
      "discard 5\n",
      "The sum of the remaining elements are: 4\n"
     ]
    }
   ],
   "source": [
    "## Set .discard(), .remove() & .pop()\n",
    "if __name__ == '__main__':\n",
    "    N = int(input())\n",
    "    s = set(map(int, input().split()))\n",
    "    n = int(input())\n",
    "    for i in range (n):\n",
    "        command = input().split()\n",
    "        if command[0] == 'pop':\n",
    "            s.pop()\n",
    "        elif command[0] == 'remove':\n",
    "            s.remove(int(command[1]))\n",
    "        elif command[0] == 'discard':\n",
    "            s.discard(int(command[1]))\n",
    "        elif command[0] == 'discard':\n",
    "            s.discard(int(command[1]))\n",
    "        elif command[0] == 'remove':\n",
    "            s.remove(int(command[1]))\n",
    "        elif command[0] == 'pop':\n",
    "            s.pop()\n",
    "        elif command[0] == 'discard':\n",
    "            s.discard(int(command[1]))\n",
    "        elif command[0] == 'remove':\n",
    "            s.remove(int(command[1]))\n",
    "        elif command[0] == 'pop':\n",
    "            s.pop()\n",
    "        elif command[0] == 'discard':\n",
    "            s.discard(int(command[1]))\n",
    "print(\"The sum of the remaining elements are:\",sum(s))"
   ]
  },
  {
   "cell_type": "code",
   "execution_count": 49,
   "id": "28b2d9a0",
   "metadata": {},
   "outputs": [
    {
     "name": "stdout",
     "output_type": "stream",
     "text": [
      "9\n",
      "1 2 3 4 5 6 7 8 9\n",
      "9\n",
      "10 1 2 3 11 21 55 6 8\n",
      "The number of students who are distinct: 13\n"
     ]
    }
   ],
   "source": [
    "##Set .union() Operation\n",
    "\n",
    "n = int(input())\n",
    "eng_sub = set(map(int, input().split()))\n",
    "b = int(input())\n",
    "fren_sub = set(map(int, input().split()))\n",
    "\n",
    "print(\"The number of students who are distinct:\",len(eng_sub.union(fren_sub)))"
   ]
  },
  {
   "cell_type": "code",
   "execution_count": 50,
   "id": "0b5b50f5",
   "metadata": {},
   "outputs": [
    {
     "name": "stdout",
     "output_type": "stream",
     "text": [
      "9\n",
      "1 2 3 4 5 6 7 8 9\n",
      "9\n",
      "10 1 2 3 11 21 55 6 8\n",
      "5\n"
     ]
    }
   ],
   "source": [
    "## Set.intersection:\n",
    "\n",
    "n = int(input())\n",
    "eng_sub = set(map(int, input().split()))\n",
    "b = int(input())\n",
    "fren_sub = set(map(int, input().split()))\n",
    "\n",
    "print(len(eng_sub.intersection(fren_sub)))"
   ]
  },
  {
   "cell_type": "code",
   "execution_count": 51,
   "id": "bc610ad2",
   "metadata": {},
   "outputs": [
    {
     "name": "stdout",
     "output_type": "stream",
     "text": [
      "9\n",
      "1 2 3 4 5 6 7 8 9\n",
      "9\n",
      "10 1 2 3 11 21 55 6 8\n",
      "4\n"
     ]
    }
   ],
   "source": [
    "## Set.difference\n",
    "\n",
    "n = int(input())\n",
    "eng_sub = set(map(int, input().split()))\n",
    "b = int(input())\n",
    "fren_sub = set(map(int, input().split()))\n",
    "\n",
    "print(len(eng_sub.difference(fren_sub)))"
   ]
  },
  {
   "cell_type": "code",
   "execution_count": 52,
   "id": "d98e21e0",
   "metadata": {},
   "outputs": [
    {
     "name": "stdout",
     "output_type": "stream",
     "text": [
      "9\n",
      "1 2 3 4 5 6 7 8 9\n",
      "9\n",
      "10 1 2 3 11 21 55 6 8\n",
      "8\n"
     ]
    }
   ],
   "source": [
    "## Set.symmetric difference:\n",
    "\n",
    "n = int(input())\n",
    "eng_sub = set(map(int, input().split()))\n",
    "b = int(input())\n",
    "fren_sub = set(map(int, input().split()))\n",
    "\n",
    "print(len(eng_sub.symmetric_difference(fren_sub)))"
   ]
  },
  {
   "cell_type": "markdown",
   "id": "b3cd7f0d",
   "metadata": {},
   "source": [
    "The roll numbers of students who have subscriptions to English or French newspapers but not both are: 8"
   ]
  },
  {
   "cell_type": "code",
   "execution_count": 2,
   "id": "ce9e72bd",
   "metadata": {},
   "outputs": [
    {
     "name": "stdout",
     "output_type": "stream",
     "text": [
      "16\n",
      "1 2 3 4 5 6 7 8 9 10 11 12 13 14 24 52\n",
      "4\n",
      " intersection_update 10\n",
      " 2 3 5 6 8 9 1 4 7 11\n",
      "update 2\n",
      " 55 66\n",
      " symmetric_difference_update 5\n",
      " 22 7 35 62 58\n",
      " difference_update 7\n",
      "11 22 35 55 58 62 66\n",
      "38\n"
     ]
    }
   ],
   "source": [
    "## Set Mutations:\n",
    "\n",
    "A  = int(input())\n",
    "set_A = set(map(int, input().split()))\n",
    "num_of_other_sets = int(input())\n",
    "\n",
    "for i in range(num_of_other_sets):\n",
    "    operation, length = input().split()\n",
    "    other_set = set(map(int, input().split()))\n",
    "    if operation == 'intersection_update':\n",
    "        set_A.intersection_update(other_set)\n",
    "    elif operation == 'update':\n",
    "        set_A.update(other_set)\n",
    "    elif operation == 'symmetric_difference_update':\n",
    "        set_A.symmetric_difference_update(other_set)\n",
    "    elif operation == 'difference_update':\n",
    "        set_A.difference_update(other_set)\n",
    "print(sum(set_A))"
   ]
  },
  {
   "cell_type": "code",
   "execution_count": 4,
   "id": "05c25ee6",
   "metadata": {},
   "outputs": [
    {
     "name": "stdout",
     "output_type": "stream",
     "text": [
      "5\n",
      "1 2 3 6 5 4 4 2 5 3 6 1 6 5 3 2 4 1 2 5 1 4 3 6 8 4 3 1 5 6 2 \n",
      "8\n"
     ]
    }
   ],
   "source": [
    "## Captain's Room:\n",
    "\n",
    "K = int(input())\n",
    "room_list = list(map(int, input().split()))\n",
    "dict_counts = {}\n",
    "for element in room_list:\n",
    "    if element not in dict_counts:\n",
    "        dict_counts[element] = 1\n",
    "    else:\n",
    "        dict_counts[element] += 1 ## Getting the number of occurrences\n",
    "for key, value in dict_counts.items():\n",
    "    if value == 1:\n",
    "        print(key)"
   ]
  },
  {
   "cell_type": "code",
   "execution_count": null,
   "id": "f10e1cbd",
   "metadata": {},
   "outputs": [],
   "source": []
  }
 ],
 "metadata": {
  "kernelspec": {
   "display_name": "Python 3 (ipykernel)",
   "language": "python",
   "name": "python3"
  },
  "language_info": {
   "codemirror_mode": {
    "name": "ipython",
    "version": 3
   },
   "file_extension": ".py",
   "mimetype": "text/x-python",
   "name": "python",
   "nbconvert_exporter": "python",
   "pygments_lexer": "ipython3",
   "version": "3.9.13"
  }
 },
 "nbformat": 4,
 "nbformat_minor": 5
}
